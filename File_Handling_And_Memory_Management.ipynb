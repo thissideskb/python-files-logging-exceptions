{
  "nbformat": 4,
  "nbformat_minor": 0,
  "metadata": {
    "colab": {
      "provenance": []
    },
    "kernelspec": {
      "name": "python3",
      "display_name": "Python 3"
    },
    "language_info": {
      "name": "python"
    }
  },
  "cells": [
    {
      "cell_type": "markdown",
      "source": [
        "Files, exceptional handling, logging and memory management"
      ],
      "metadata": {
        "id": "UBNn7Wd1yHgb"
      }
    },
    {
      "cell_type": "markdown",
      "source": [],
      "metadata": {
        "id": "ZcwapxeIpcaV"
      }
    },
    {
      "cell_type": "markdown",
      "source": [
        "1. What is the difference between interpreted and compiled languages?\n",
        " - Interpreted languages run code line-by-line during execution.\n",
        "Compiled languages convert the entire code into machine language before running.\n",
        "2. What is exception handling in Python?\n",
        " - It is a way to handle errors during program execution using try, except, and other blocks to prevent the program from crashing.\n",
        "3.  What is the purpose of the finally block in exception handling?\n",
        " - The finally block runs no matter what — whether there is an error or not. It is often used to clean up resources (like closing files or database connections).\n",
        "4.  What is logging in Python?\n",
        " - Logging is used to track events, errors, and messages during program execution, and it saves them to files or consoles for debugging.\n",
        "5. What is the significance of the __del__ method in Python?\n",
        " - The __del__ method is a destructor. It is called when an object is deleted to clean up resources like closing a file or releasing memory.\n",
        "6. What is the difference between import and from ... import in Python?\n",
        " - import math: You access functions like math.sqrt().\n",
        " - from math import sqrt: You can directly use sqrt()."
      ],
      "metadata": {
        "id": "gMikubhdndXO"
      }
    },
    {
      "cell_type": "code",
      "source": [
        "## 7.How can you handle multiple exceptions in Python?\n",
        "## Use multiple except blocks or combine exceptions in one block:\n",
        "try:\n",
        "    x = int(\"abc\")  # This will cause a ValueError\n",
        "except (TypeError, ValueError) as e:\n",
        "    print(\"An error occurred:\", e)"
      ],
      "metadata": {
        "colab": {
          "base_uri": "https://localhost:8080/"
        },
        "id": "b_22mVNF_hJN",
        "outputId": "88cbeb9c-54fe-4c72-8cda-9da907d76bf6"
      },
      "execution_count": 4,
      "outputs": [
        {
          "output_type": "stream",
          "name": "stdout",
          "text": [
            "An error occurred: invalid literal for int() with base 10: 'abc'\n"
          ]
        }
      ]
    },
    {
      "cell_type": "markdown",
      "source": [
        " 8. What is the purpose of the with statement when handling files in Python?\n",
        "  - The with statement automatically closes the file after using it, even if an error occurs.\n",
        "9. What is the difference between multithreading and multiprocessing?\n",
        "  - Multithreading: Multiple tasks run in the same memory space.\n",
        "  - Multiprocessing: Multiple tasks run in different memory spaces. Useful for heavy CPU tasks.\n",
        "10. What are the advantages of using logging in a program?\n",
        "  - Tracks bugs\n",
        "  - Helps debugging\n",
        "  - Shows error history\n",
        "  - Better than using print statements\n",
        "11. What is memory management in Python?\n",
        "  - It is how Python manages memory usage of variables and objects using reference counting and garbage collection.\n",
        "12.  What are the basic steps involved in exception handling in Python?\n",
        "  - Use try block for risky code\n",
        "  - Use except block for error handling\n",
        "  - Optionally use else and finally blocks\n",
        "13.  Why is memory management important in Python?\n",
        "  - It helps to avoid memory leaks, keeps the program efficient, and frees up unused memory.\n",
        "14.  What is the role of try and except in exception handling?\n",
        "  - try: Code that may cause an error\n",
        "  - except: Code that runs if there is an error  \n",
        "15.  How does Python's garbage collection system work?\n",
        "  -  Python deletes unused objects automatically using reference counting and a garbage collector to free memory.\n",
        "16. What is the purpose of the else block in exception handling?\n",
        "  - It runs only if no exception occurs in the try block.\n",
        "17.  What are the common logging levels in Python?\n",
        "  - DEBUG – Detailed info\n",
        "  - INFO – General info\n",
        "  - WARNING – Something is wrong but still works\n",
        "  - ERROR – Error occurred\n",
        "  - CRITICAL – Serious error, program may stop\n",
        "18. What is the difference between os.fork() and multiprocessing in Python?\n",
        "  - os.fork() creates a new process (mostly for Unix/Linux)\n",
        "  - multiprocessing works on all platforms and is more flexible\n",
        "19.  What is the importance of closing a file in Python?\n",
        "  - Closing a file saves data properly and frees system resources.\n",
        "20. What is the difference between file.read() and file.readline() in Python?\n",
        "  - read() reads the whole file at once\n",
        "  - readline() reads one line at a time\n",
        "21. What is the logging module in Python used for?\n",
        "  - To log messages (info, warning, errors) during program execution.\n",
        "22. What is the os module in Python used for in file handling?\n",
        "  - To interact with the operating system, such as checking if a file exists or deleting a file.\n",
        "23. What are the challenges associated with memory management in Python?\n",
        "  - Detecting memory leaks\n",
        "  - Managing references manually\n",
        "  - Handling large objects efficiently"
      ],
      "metadata": {
        "id": "cQjIOoadANQ3"
      }
    },
    {
      "cell_type": "code",
      "source": [
        "## 24.  How do you raise an exception manually in Python?\n",
        "## Use the raise keyword:\n",
        "try:\n",
        "    age = 20\n",
        "    if age < 18:\n",
        "        raise ValueError(\"You must be at least 18 years old.\")\n",
        "    else:\n",
        "        print(\"You are eligible.\")\n",
        "except ValueError as e:\n",
        "    print(\"Error:\", e)"
      ],
      "metadata": {
        "colab": {
          "base_uri": "https://localhost:8080/"
        },
        "id": "phmdgUIN_po9",
        "outputId": "ddec3903-d291-49e8-e0e0-55292e02302d"
      },
      "execution_count": 6,
      "outputs": [
        {
          "output_type": "stream",
          "name": "stdout",
          "text": [
            "You are eligible.\n"
          ]
        }
      ]
    },
    {
      "cell_type": "markdown",
      "source": [
        "25.  Why is it important to use multithreading in certain applications?\n",
        "- Multithreading helps in:\n",
        "  - Running tasks at the same time\n",
        "  - Making programs faster\n",
        "  - Especially useful in I/O tasks like downloading files"
      ],
      "metadata": {
        "id": "zwoun2FKDe0-"
      }
    },
    {
      "cell_type": "code",
      "source": [
        "## 1.How can you open a file for writing in Python and write a string to it?\n",
        "with open(\"example.txt\", \"w\") as file:\n",
        "    file.write(\"Hello, my name is Sunil and I am 20 years old.\")"
      ],
      "metadata": {
        "id": "sspsBvBiDzaU"
      },
      "execution_count": 8,
      "outputs": []
    },
    {
      "cell_type": "code",
      "source": [
        "## 2.Write a Python program to read the contents of a file and print each line.\n",
        "with open(\"example.txt\", \"r\") as file:\n",
        "    for line in file:\n",
        "        print(line.strip())"
      ],
      "metadata": {
        "colab": {
          "base_uri": "https://localhost:8080/"
        },
        "id": "ME7LqXDXIp7n",
        "outputId": "fe57d758-4370-469a-8fb0-7d3750fd6bca"
      },
      "execution_count": 9,
      "outputs": [
        {
          "output_type": "stream",
          "name": "stdout",
          "text": [
            "Hello, my name is Sunil and I am 20 years old.\n"
          ]
        }
      ]
    },
    {
      "cell_type": "code",
      "source": [
        "## 3.How would you handle a case where the file doesn't exist while trying to open it for reading?\n",
        "try:\n",
        "    with open(\"nonexistent.txt\", \"r\") as file:\n",
        "        print(file.read())\n",
        "except FileNotFoundError:\n",
        "    print(\"File not found!\")"
      ],
      "metadata": {
        "colab": {
          "base_uri": "https://localhost:8080/"
        },
        "id": "sFMgy1hNI1DO",
        "outputId": "0d13c770-d858-4c52-84ab-4a37300690cd"
      },
      "execution_count": 10,
      "outputs": [
        {
          "output_type": "stream",
          "name": "stdout",
          "text": [
            "File not found!\n"
          ]
        }
      ]
    },
    {
      "cell_type": "code",
      "source": [
        "## 4.Write a Python script that reads from one file and writes its content to another file.\n",
        "# First, let's create a file to read from\n",
        "with open(\"source.txt\", \"w\") as file:\n",
        "    file.write(\"My name is Sunil and I am 20 years old.\")\n",
        "\n",
        "# Now we read from that file and write to another\n",
        "try:\n",
        "    with open(\"source.txt\", \"r\") as src:\n",
        "        content = src.read()\n",
        "    with open(\"destination.txt\", \"w\") as dest:\n",
        "        dest.write(content)\n",
        "    print(\"Content copied successfully.\")\n",
        "except FileNotFoundError:\n",
        "    print(\"Source file not found.\")"
      ],
      "metadata": {
        "colab": {
          "base_uri": "https://localhost:8080/"
        },
        "id": "FK1jEDzXI9uV",
        "outputId": "5b86d89f-0745-4235-8331-4b41ded49bf1"
      },
      "execution_count": 13,
      "outputs": [
        {
          "output_type": "stream",
          "name": "stdout",
          "text": [
            "Content copied successfully.\n"
          ]
        }
      ]
    },
    {
      "cell_type": "code",
      "source": [
        "## 5. How would you catch and handle division by zero error in Python?\n",
        "try:\n",
        "    result = 10 / 0\n",
        "except ZeroDivisionError:\n",
        "    print(\"Cannot divide by zero!\")"
      ],
      "metadata": {
        "colab": {
          "base_uri": "https://localhost:8080/"
        },
        "id": "9osu3CHHJDQq",
        "outputId": "ceed4f8a-d1a3-4522-eafb-e055d1efe20b"
      },
      "execution_count": 14,
      "outputs": [
        {
          "output_type": "stream",
          "name": "stdout",
          "text": [
            "Cannot divide by zero!\n"
          ]
        }
      ]
    },
    {
      "cell_type": "code",
      "source": [
        "## 6. Write a Python program that logs an error message to a log file when a division by zero exception occurs.\n",
        "import logging\n",
        "\n",
        "logging.basicConfig(filename=\"error.log\", level=logging.ERROR)\n",
        "\n",
        "try:\n",
        "    result = 10 / 0\n",
        "except ZeroDivisionError as e:\n",
        "    logging.error(\"Division by zero error: %s\", e)"
      ],
      "metadata": {
        "colab": {
          "base_uri": "https://localhost:8080/"
        },
        "id": "HLFOAuWpJfgP",
        "outputId": "b51aa6d2-df79-4af4-9db8-a4fbf35f5727"
      },
      "execution_count": 15,
      "outputs": [
        {
          "output_type": "stream",
          "name": "stderr",
          "text": [
            "ERROR:root:Division by zero error: division by zero\n"
          ]
        }
      ]
    },
    {
      "cell_type": "code",
      "source": [
        "## 7. How do you log information at different levels (INFO, ERROR, WARNING) in Python using the logging module?\n",
        "import logging\n",
        "\n",
        "logging.basicConfig(filename=\"app.log\", level=logging.DEBUG)\n",
        "\n",
        "logging.info(\"This is an info message.\")\n",
        "logging.warning(\"This is a warning.\")\n",
        "logging.error(\"This is an error.\")"
      ],
      "metadata": {
        "colab": {
          "base_uri": "https://localhost:8080/"
        },
        "id": "iliXWabCJkb8",
        "outputId": "152362e6-bd94-4618-dcc9-b18045aaebb4"
      },
      "execution_count": 16,
      "outputs": [
        {
          "output_type": "stream",
          "name": "stderr",
          "text": [
            "WARNING:root:This is a warning.\n",
            "ERROR:root:This is an error.\n"
          ]
        }
      ]
    },
    {
      "cell_type": "code",
      "source": [
        "## 8.Write a program to handle a file opening error using exception handling.\n",
        "try:\n",
        "    file = open(\"data.txt\", \"r\")\n",
        "except FileNotFoundError:\n",
        "    print(\"File not found!\")"
      ],
      "metadata": {
        "colab": {
          "base_uri": "https://localhost:8080/"
        },
        "id": "_IgsoSE8JpEf",
        "outputId": "f1a286d2-fdd6-487c-a573-9686941d374d"
      },
      "execution_count": 17,
      "outputs": [
        {
          "output_type": "stream",
          "name": "stdout",
          "text": [
            "File not found!\n"
          ]
        }
      ]
    },
    {
      "cell_type": "code",
      "source": [
        "## 9. How can you read a file line by line and store its content in a list in Python?\n",
        "with open(\"example.txt\", \"r\") as file:\n",
        "    lines = file.readlines()\n",
        "\n",
        "print(lines)"
      ],
      "metadata": {
        "colab": {
          "base_uri": "https://localhost:8080/"
        },
        "id": "a3ZlQGlNJwRo",
        "outputId": "c1f4b2f0-bf24-4836-875f-5db80fbb1f76"
      },
      "execution_count": 18,
      "outputs": [
        {
          "output_type": "stream",
          "name": "stdout",
          "text": [
            "['Hello, my name is Sunil and I am 20 years old.']\n"
          ]
        }
      ]
    },
    {
      "cell_type": "code",
      "source": [
        "## 10.How can you append data to an existing file in Python?\n",
        "with open(\"example.txt\", \"a\") as file:\n",
        "    file.write(\"\\nThis is additional data.\")"
      ],
      "metadata": {
        "id": "0n7odxqTJ1VS"
      },
      "execution_count": 19,
      "outputs": []
    },
    {
      "cell_type": "code",
      "source": [
        "## 11.Write a Python program that uses a try-except block to handle an error when attempting to access a dictionary key that doesn't exist.\n",
        "data = {\"name\": \"Sunil\"}\n",
        "\n",
        "try:\n",
        "    print(data[\"age\"])\n",
        "except KeyError:\n",
        "    print(\"Key not found in dictionary!\")"
      ],
      "metadata": {
        "colab": {
          "base_uri": "https://localhost:8080/"
        },
        "id": "U8CQAQAIJ6nJ",
        "outputId": "7bcdda08-36c6-4005-df65-23660af97b42"
      },
      "execution_count": 20,
      "outputs": [
        {
          "output_type": "stream",
          "name": "stdout",
          "text": [
            "Key not found in dictionary!\n"
          ]
        }
      ]
    },
    {
      "cell_type": "code",
      "source": [
        "## 12.Write a program that demonstrates using multiple except blocks to handle different types of exceptions.\n",
        "try:\n",
        "    num = int(\"abc\")  # ValueError\n",
        "    result = 10 / 0    # ZeroDivisionError\n",
        "except ValueError:\n",
        "    print(\"Invalid value!\")\n",
        "except ZeroDivisionError:\n",
        "    print(\"Division by zero!\")"
      ],
      "metadata": {
        "colab": {
          "base_uri": "https://localhost:8080/"
        },
        "id": "33pU0AvuKA9A",
        "outputId": "f6bdf4e6-7429-481d-a815-ef528fcaf865"
      },
      "execution_count": 21,
      "outputs": [
        {
          "output_type": "stream",
          "name": "stdout",
          "text": [
            "Invalid value!\n"
          ]
        }
      ]
    },
    {
      "cell_type": "code",
      "source": [
        "## 13.How would you check if a file exists before attempting to read it in Python?\n",
        "import os\n",
        "\n",
        "if os.path.exists(\"example.txt\"):\n",
        "    with open(\"example.txt\", \"r\") as file:\n",
        "        print(file.read())\n",
        "else:\n",
        "    print(\"File does not exist.\")"
      ],
      "metadata": {
        "colab": {
          "base_uri": "https://localhost:8080/"
        },
        "id": "rS-atkkNKE-K",
        "outputId": "a714e39b-b536-42a4-ae56-c2bc0b4a0626"
      },
      "execution_count": 22,
      "outputs": [
        {
          "output_type": "stream",
          "name": "stdout",
          "text": [
            "Hello, my name is Sunil and I am 20 years old.\n",
            "This is additional data.\n"
          ]
        }
      ]
    },
    {
      "cell_type": "code",
      "source": [
        "## 14.Write a program that uses the logging module to log both informational and error messages.\n",
        "import logging\n",
        "\n",
        "logging.basicConfig(filename=\"logfile.log\", level=logging.DEBUG)\n",
        "\n",
        "logging.info(\"Program started.\")\n",
        "try:\n",
        "    result = 10 / 0\n",
        "except ZeroDivisionError:\n",
        "    logging.error(\"Tried to divide by zero.\")"
      ],
      "metadata": {
        "colab": {
          "base_uri": "https://localhost:8080/"
        },
        "id": "EcRep_RaKL_u",
        "outputId": "029006b4-8077-4fd7-8dd8-0053ed0f7764"
      },
      "execution_count": 23,
      "outputs": [
        {
          "output_type": "stream",
          "name": "stderr",
          "text": [
            "ERROR:root:Tried to divide by zero.\n"
          ]
        }
      ]
    },
    {
      "cell_type": "code",
      "source": [
        "## 15.Write a Python program that prints the content of a file and handles the case when the file is empty.\n",
        "with open(\"example.txt\", \"r\") as file:\n",
        "    content = file.read()\n",
        "    if content:\n",
        "        print(content)\n",
        "    else:\n",
        "        print(\"The file is empty.\")"
      ],
      "metadata": {
        "colab": {
          "base_uri": "https://localhost:8080/"
        },
        "id": "XsXWKBuQKRUT",
        "outputId": "04df264d-39b2-49b5-83b5-9498da3b132d"
      },
      "execution_count": 24,
      "outputs": [
        {
          "output_type": "stream",
          "name": "stdout",
          "text": [
            "Hello, my name is Sunil and I am 20 years old.\n",
            "This is additional data.\n"
          ]
        }
      ]
    },
    {
      "cell_type": "code",
      "source": [
        "## 16.Demonstrate how to use memory profiling to check the memory usage of a small program\n",
        "import os\n",
        "import psutil\n",
        "\n",
        "def memory_usage():\n",
        "    process = psutil.Process(os.getpid())\n",
        "    print(\"Memory used (in MB):\", process.memory_info().rss / 1024 / 1024)\n",
        "\n",
        "def calculate_squares():\n",
        "    numbers = [i ** 2 for i in range(100000)]\n",
        "    return numbers\n",
        "\n",
        "memory_usage()  # Before\n",
        "calculate_squares()\n",
        "memory_usage()  # After"
      ],
      "metadata": {
        "colab": {
          "base_uri": "https://localhost:8080/"
        },
        "id": "YBmYU1gSKVsY",
        "outputId": "4a2368d8-e681-4153-90cb-8b6bf57decf8"
      },
      "execution_count": 26,
      "outputs": [
        {
          "output_type": "stream",
          "name": "stdout",
          "text": [
            "Memory used (in MB): 115.2421875\n",
            "Memory used (in MB): 116.38671875\n"
          ]
        }
      ]
    },
    {
      "cell_type": "code",
      "source": [
        "## 17.Write a Python program to create and write a list of numbers to a file, one number per line\n",
        "numbers = [1, 2, 3, 4, 5]\n",
        "\n",
        "with open(\"numbers.txt\", \"w\") as file:\n",
        "    for number in numbers:\n",
        "        file.write(str(number) + \"\\n\")"
      ],
      "metadata": {
        "id": "ckZX2YL8KhmC"
      },
      "execution_count": 27,
      "outputs": []
    },
    {
      "cell_type": "code",
      "source": [
        "## 18.How would you implement a basic logging setup that logs to a file with rotation after 1MB\n",
        "import logging\n",
        "from logging.handlers import RotatingFileHandler\n",
        "\n",
        "logger = logging.getLogger(\"my_logger\")\n",
        "logger.setLevel(logging.INFO)\n",
        "\n",
        "handler = RotatingFileHandler(\"app.log\", maxBytes=1_000_000, backupCount=3)\n",
        "logger.addHandler(handler)\n",
        "\n",
        "logger.info(\"This is a rotating log example.\")"
      ],
      "metadata": {
        "colab": {
          "base_uri": "https://localhost:8080/"
        },
        "id": "bkoVQPC_K3Xj",
        "outputId": "0021117b-c8a1-4727-fd2e-583b2bf78993"
      },
      "execution_count": 28,
      "outputs": [
        {
          "output_type": "stream",
          "name": "stderr",
          "text": [
            "INFO:my_logger:This is a rotating log example.\n"
          ]
        }
      ]
    },
    {
      "cell_type": "code",
      "source": [
        "## 19.Write a program that handles both IndexError and KeyError using a try-except block\n",
        "my_list = [1, 2, 3]\n",
        "my_dict = {\"name\": \"Sunil\"}\n",
        "\n",
        "try:\n",
        "    print(my_list[5])        # IndexError\n",
        "    print(my_dict[\"age\"])    # KeyError\n",
        "except IndexError:\n",
        "    print(\"Index out of range!\")\n",
        "except KeyError:\n",
        "    print(\"Key not found!\")"
      ],
      "metadata": {
        "colab": {
          "base_uri": "https://localhost:8080/"
        },
        "id": "5L7ELUjMK_A-",
        "outputId": "7db141aa-c218-4b8a-935f-b3f715ba239b"
      },
      "execution_count": 29,
      "outputs": [
        {
          "output_type": "stream",
          "name": "stdout",
          "text": [
            "Index out of range!\n"
          ]
        }
      ]
    },
    {
      "cell_type": "code",
      "source": [
        "## 20.How would you open a file and read its contents using a context manager in Python\n",
        "with open(\"example.txt\", \"r\") as file:\n",
        "    content = file.read()\n",
        "    print(content)"
      ],
      "metadata": {
        "colab": {
          "base_uri": "https://localhost:8080/"
        },
        "id": "kP83xGETLDGx",
        "outputId": "caf118d4-6ce2-40ad-e194-b077c0f8a18d"
      },
      "execution_count": 30,
      "outputs": [
        {
          "output_type": "stream",
          "name": "stdout",
          "text": [
            "Hello, my name is Sunil and I am 20 years old.\n",
            "This is additional data.\n"
          ]
        }
      ]
    },
    {
      "cell_type": "code",
      "source": [
        "## 21.Write a Python program that reads a file and prints the number of occurrences of a specific word\n",
        "word_to_find = \"Sunil\"\n",
        "\n",
        "with open(\"example.txt\", \"r\") as file:\n",
        "    content = file.read()\n",
        "    count = content.count(word_to_find)\n",
        "\n",
        "print(f\"The word '{word_to_find}' occurs {count} times.\")"
      ],
      "metadata": {
        "colab": {
          "base_uri": "https://localhost:8080/"
        },
        "id": "3NAp18acLKU3",
        "outputId": "ff92c3f0-2052-47c9-a144-4a9db8c4e19d"
      },
      "execution_count": 31,
      "outputs": [
        {
          "output_type": "stream",
          "name": "stdout",
          "text": [
            "The word 'Sunil' occurs 1 times.\n"
          ]
        }
      ]
    },
    {
      "cell_type": "code",
      "source": [
        "## 22.How can you check if a file is empty before attempting to read its contents\n",
        "import os\n",
        "\n",
        "file_path = \"example.txt\"\n",
        "\n",
        "if os.path.exists(file_path) and os.path.getsize(file_path) > 0:\n",
        "    with open(file_path, \"r\") as file:\n",
        "        print(file.read())\n",
        "else:\n",
        "    print(\"File is empty or doesn't exist.\")"
      ],
      "metadata": {
        "colab": {
          "base_uri": "https://localhost:8080/"
        },
        "id": "Wfn8BgA5LPsT",
        "outputId": "7586e902-ad80-4875-f19f-25adf9a04c12"
      },
      "execution_count": 32,
      "outputs": [
        {
          "output_type": "stream",
          "name": "stdout",
          "text": [
            "Hello, my name is Sunil and I am 20 years old.\n",
            "This is additional data.\n"
          ]
        }
      ]
    },
    {
      "cell_type": "code",
      "source": [
        "## 23.Write a Python program that writes to a log file when an error occurs during file handling\n",
        "import logging\n",
        "\n",
        "logging.basicConfig(filename=\"file_errors.log\", level=logging.ERROR)\n",
        "\n",
        "try:\n",
        "    with open(\"missingfile.txt\", \"r\") as file:\n",
        "        data = file.read()\n",
        "except FileNotFoundError as e:\n",
        "    logging.error(\"File not found error: %s\", e)"
      ],
      "metadata": {
        "colab": {
          "base_uri": "https://localhost:8080/"
        },
        "id": "wCjzROqlLUZd",
        "outputId": "a9dd0773-0d79-4a6c-c344-31fad9489ddb"
      },
      "execution_count": 33,
      "outputs": [
        {
          "output_type": "stream",
          "name": "stderr",
          "text": [
            "ERROR:root:File not found error: [Errno 2] No such file or directory: 'missingfile.txt'\n"
          ]
        }
      ]
    }
  ]
}